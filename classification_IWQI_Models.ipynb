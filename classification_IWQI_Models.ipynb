{
  "nbformat": 4,
  "nbformat_minor": 0,
  "metadata": {
    "colab": {
      "provenance": []
    },
    "kernelspec": {
      "name": "python3",
      "display_name": "Python 3"
    },
    "language_info": {
      "name": "python"
    }
  },
  "cells": [
    {
      "cell_type": "code",
      "source": [
        "import tensorflow as tf\n",
        "from tensorflow import keras\n",
        "from keras.models import Sequential\n",
        "from keras.layers import Dense, Dropout, Activation\n",
        "import numpy as np"
      ],
      "metadata": {
        "id": "fp-vpp8v5-hG"
      },
      "execution_count": null,
      "outputs": []
    },
    {
      "cell_type": "code",
      "source": [
        "from sklearn.preprocessing import StandardScaler"
      ],
      "metadata": {
        "id": "6FPRHaWu6CIk"
      },
      "execution_count": null,
      "outputs": []
    },
    {
      "cell_type": "code",
      "source": [
        "from sklearn.model_selection import train_test_split"
      ],
      "metadata": {
        "id": "EI1RZyg39XqU"
      },
      "execution_count": null,
      "outputs": []
    },
    {
      "cell_type": "code",
      "source": [
        "# Import libraries and modules\n",
        "\n",
        "\n",
        "\n",
        "# Split data into training and testing sets\n",
        "X_train, X_test, y_train, y_test = train_test_split(X, y, test_size=0.2)\n",
        "\n",
        "# Scale features\n",
        "scaler = StandardScaler()\n",
        "X_train = scaler.fit_transform(X_train)\n",
        "X_test = scaler.transform(X_test)"
      ],
      "metadata": {
        "id": "4N7P6eCq6Bfc"
      },
      "execution_count": null,
      "outputs": []
    },
    {
      "cell_type": "code",
      "execution_count": null,
      "metadata": {
        "id": "nWNMRvJ95qIG"
      },
      "outputs": [],
      "source": [
        "# Create a sequential model\n",
        "model = Sequential()\n",
        "\n",
        "# Add layers to the model\n",
        "model.add(Dense(256, input_shape=(14,), activation='relu')) # First hidden layer with 64 units and relu activation\n",
        "model.add(Dropout(0.2)) # Dropout layer to prevent overfitting\n",
        "model.add(Dense(128, activation='relu')) # Second hidden layer with 32 units and relu activation\n",
        "model.add(Dropout(0.2)) # Dropout layer to prevent overfitting\n",
        "model.add(Dense(64, activation='relu')) # Second hidden layer with 32 units and relu activation\n",
        "model.add(Dropout(0.2)) # Dropout layer to prevent overfitting\n",
        "model.add(Dense(32, activation='relu')) # Second hidden layer with 32 units and relu activation\n",
        "model.add(Dropout(0.2)) # Dropout layer to prevent overfitting\n",
        "model.add(Dense(16, activation='relu')) # Second hidden layer with 32 units and relu activation\n",
        "model.add(Dropout(0.2)) # Dropout layer to prevent overfitting\n",
        "model.add(Dense(8, activation='relu')) # Second hidden layer with 32 units and relu activation\n",
        "model.add(Dropout(0.2)) # Dropout layer to prevent overfitting\n",
        "model.add(Dense(5, activation='softmax')) # Output layer with 5 units and softmax activation\n",
        "\n",
        "# Compile the model\n",
        "model.compile(optimizer='adam', loss='categorical_crossentropy', metrics=['accuracy'])\n",
        "\n",
        "# Fit the model on the training data\n",
        "\n"
      ]
    },
    {
      "cell_type": "code",
      "source": [
        "#for multilabel"
      ],
      "metadata": {
        "id": "kdfYYAcM320c"
      },
      "execution_count": null,
      "outputs": []
    },
    {
      "cell_type": "code",
      "source": [
        "X = df[['feature1', 'feature2', ..., 'feature14']]\n",
        "y = df[['label1', 'label2']]\n",
        "\n",
        "# Split the data into train and test sets, with 80% of the data for training and 20% for testing\n",
        "# Use stratify=y to preserve the class distribution in both sets\n",
        "X_train, X_test, y_train, y_test = train_test_split(X, y, test_size=0.2, random_state=42, stratify=y)"
      ],
      "metadata": {
        "id": "3PYKfb3c32SW"
      },
      "execution_count": null,
      "outputs": []
    },
    {
      "cell_type": "code",
      "source": [
        "# Imports\n",
        "from sklearn.datasets import make_multilabel_classification\n",
        "from sklearn.model_selection import train_test_split\n",
        "from tensorflow.keras.models import Sequential\n",
        "from tensorflow.keras.layers import Dense\n",
        "from tensorflow.keras.losses import binary_crossentropy\n",
        "from tensorflow.keras.optimizers import Adam\n",
        "\n",
        "# Configuration options\n",
        "n_features = 14\n",
        "n_classes = 5\n",
        "n_labels = 2\n",
        "n_epochs = 50\n",
        "random_state = 42\n",
        "batch_size = 250\n",
        "verbosity = 1\n",
        "validation_split = 0.2\n",
        "\n",
        "\n",
        "# Split into training and testing data\n",
        "X_train, X_test, y_train, y_test = train_test_split(X, y, test_size=0.33, random_state=random_state)\n",
        "\n",
        "# Create the model\n",
        "model = Sequential()\n",
        "model.add(Dense(256, input_shape=(14,), activation='relu')) # First hidden layer with 64 units and relu activation\n",
        "model.add(Dropout(0.2)) # Dropout layer to prevent overfitting\n",
        "model.add(Dense(128, activation='relu')) # Second hidden layer with 32 units and relu activation\n",
        "model.add(Dropout(0.2)) # Dropout layer to prevent overfitting\n",
        "model.add(Dense(64, activation='relu')) # Second hidden layer with 32 units and relu activation\n",
        "model.add(Dropout(0.2)) # Dropout layer to prevent overfitting\n",
        "model.add(Dense(32, activation='relu')) # Second hidden layer with 32 units and relu activation\n",
        "model.add(Dropout(0.2)) # Dropout layer to prevent overfitting\n",
        "model.add(Dense(16, activation='relu')) # Second hidden layer with 32 units and relu activation\n",
        "model.add(Dropout(0.2)) # Dropout layer to prevent overfitting\n",
        "model.add(Dense(8, activation='relu')) # Second hidden layer with 32 units and relu activation\n",
        "model.add(Dropout(0.2)) # Dropout layer to prevent overfitting\n",
        "model.add(Dense(5, activation='softmax')) # Output layer with 5 units and softmax activation\n",
        "# Compile the model\n",
        "model.compile(loss=binary_crossentropy,\n",
        "              optimizer=Adam(),\n",
        "              metrics=['accuracy'])\n",
        "\n",
        "# Fit data to model\n",
        "model.fit(X_train, y_train,\n",
        "          batch_size=batch_size,\n",
        "          epochs=n_epochs,\n",
        "          verbose=verbosity,\n",
        "          validation_split=validation_split)\n",
        "\n",
        "# Generate generalization metrics\n",
        "score = model.evaluate(X_test, y_test, verbose=0)\n",
        "print(f'Test loss: {score[0]} / Test accuracy: {score[1]}')"
      ],
      "metadata": {
        "id": "3Vd8H43v7o7C"
      },
      "execution_count": null,
      "outputs": []
    }
  ]
}