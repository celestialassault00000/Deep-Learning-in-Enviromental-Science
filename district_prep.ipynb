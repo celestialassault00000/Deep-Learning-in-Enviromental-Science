{
  "cells": [
    {
      "cell_type": "code",
      "execution_count": null,
      "metadata": {
        "id": "lOVkI8Lh1UiW",
        "colab": {
          "base_uri": "https://localhost:8080/"
        },
        "outputId": "522b38a3-e7d9-447d-cebd-dcc92d0f4df5"
      },
      "outputs": [
        {
          "output_type": "stream",
          "name": "stdout",
          "text": [
            "Collecting imdlib\n",
            "  Downloading imdlib-0.1.17-py3-none-any.whl (19 kB)\n",
            "Requirement already satisfied: matplotlib in /usr/local/lib/python3.10/dist-packages (from imdlib) (3.7.1)\n",
            "Requirement already satisfied: numpy in /usr/local/lib/python3.10/dist-packages (from imdlib) (1.22.4)\n",
            "Requirement already satisfied: pandas in /usr/local/lib/python3.10/dist-packages (from imdlib) (1.5.3)\n",
            "Requirement already satisfied: six in /usr/local/lib/python3.10/dist-packages (from imdlib) (1.16.0)\n",
            "Requirement already satisfied: python-dateutil in /usr/local/lib/python3.10/dist-packages (from imdlib) (2.8.2)\n",
            "Requirement already satisfied: pytz in /usr/local/lib/python3.10/dist-packages (from imdlib) (2022.7.1)\n",
            "Requirement already satisfied: urllib3 in /usr/local/lib/python3.10/dist-packages (from imdlib) (1.26.16)\n",
            "Requirement already satisfied: scipy in /usr/local/lib/python3.10/dist-packages (from imdlib) (1.10.1)\n",
            "Requirement already satisfied: xarray in /usr/local/lib/python3.10/dist-packages (from imdlib) (2022.12.0)\n",
            "Requirement already satisfied: requests in /usr/local/lib/python3.10/dist-packages (from imdlib) (2.27.1)\n",
            "Requirement already satisfied: contourpy>=1.0.1 in /usr/local/lib/python3.10/dist-packages (from matplotlib->imdlib) (1.1.0)\n",
            "Requirement already satisfied: cycler>=0.10 in /usr/local/lib/python3.10/dist-packages (from matplotlib->imdlib) (0.11.0)\n",
            "Requirement already satisfied: fonttools>=4.22.0 in /usr/local/lib/python3.10/dist-packages (from matplotlib->imdlib) (4.40.0)\n",
            "Requirement already satisfied: kiwisolver>=1.0.1 in /usr/local/lib/python3.10/dist-packages (from matplotlib->imdlib) (1.4.4)\n",
            "Requirement already satisfied: packaging>=20.0 in /usr/local/lib/python3.10/dist-packages (from matplotlib->imdlib) (23.1)\n",
            "Requirement already satisfied: pillow>=6.2.0 in /usr/local/lib/python3.10/dist-packages (from matplotlib->imdlib) (8.4.0)\n",
            "Requirement already satisfied: pyparsing>=2.3.1 in /usr/local/lib/python3.10/dist-packages (from matplotlib->imdlib) (3.1.0)\n",
            "Requirement already satisfied: certifi>=2017.4.17 in /usr/local/lib/python3.10/dist-packages (from requests->imdlib) (2023.5.7)\n",
            "Requirement already satisfied: charset-normalizer~=2.0.0 in /usr/local/lib/python3.10/dist-packages (from requests->imdlib) (2.0.12)\n",
            "Requirement already satisfied: idna<4,>=2.5 in /usr/local/lib/python3.10/dist-packages (from requests->imdlib) (3.4)\n",
            "Installing collected packages: imdlib\n",
            "Successfully installed imdlib-0.1.17\n"
          ]
        }
      ],
      "source": [
        "!pip install imdlib"
      ]
    },
    {
      "cell_type": "code",
      "execution_count": null,
      "metadata": {
        "id": "lbjGGA1fkYQx"
      },
      "outputs": [],
      "source": [
        "import pandas as pd\n",
        "df= pd.read_csv(\"/content/final_haryana.csv\")\n",
        "\n"
      ]
    },
    {
      "cell_type": "code",
      "execution_count": null,
      "metadata": {
        "id": "BbiNbzGaThjT"
      },
      "outputs": [],
      "source": [
        "df = df[~df[\"Locat\"].isna()]"
      ]
    },
    {
      "cell_type": "code",
      "source": [
        "df[\"Locat\"].isna().sum()"
      ],
      "metadata": {
        "colab": {
          "base_uri": "https://localhost:8080/"
        },
        "id": "gKkuny1tCva5",
        "outputId": "fd115318-6635-49ce-90e6-66573011f771"
      },
      "execution_count": null,
      "outputs": [
        {
          "output_type": "execute_result",
          "data": {
            "text/plain": [
              "0"
            ]
          },
          "metadata": {},
          "execution_count": 5
        }
      ]
    },
    {
      "cell_type": "code",
      "execution_count": null,
      "metadata": {
        "id": "Yfo0VCEI-ywN"
      },
      "outputs": [],
      "source": [
        "\n",
        "\n",
        "df['locat'] = df['Block'].astype(str) + ',' + df['District'].astype(str) +\",Chhattisgarh\"\n",
        "\n",
        "\n"
      ]
    },
    {
      "cell_type": "code",
      "execution_count": null,
      "metadata": {
        "colab": {
          "base_uri": "https://localhost:8080/"
        },
        "id": "r9rLwQwM_JNH",
        "outputId": "06b7eb5c-0cea-4473-9c98-96ebf8061532"
      },
      "outputs": [
        {
          "output_type": "execute_result",
          "data": {
            "text/plain": [
              "0                      Akola, Agra\n",
              "1                        Bah, Agra\n",
              "2               Barauli Ahir, Agra\n",
              "3                   Bichpuri, Agra\n",
              "4                   Etmadpur, Agra\n",
              "                  ...             \n",
              "834             Cholapur, Varanasi\n",
              "835              Harhuwa, Varanasi\n",
              "836    Kashi Vidya Peeth, Varanasi\n",
              "837               Pindra, Varanasi\n",
              "838             Sewapuri, Varanasi\n",
              "Name: Locat, Length: 839, dtype: object"
            ]
          },
          "metadata": {},
          "execution_count": 5
        }
      ],
      "source": [
        "df['Locat']"
      ]
    },
    {
      "cell_type": "code",
      "source": [
        "import geopy\n",
        "\n",
        "\n",
        "def get_coordinates_by_geopy(location):\n",
        "  # Create a geocoder object using the Nominatim service\n",
        "  geocoder = geopy.Nominatim(user_agent=\"my_app\")\n",
        "  # Check if the location is empty\n",
        "  if location == \"\":\n",
        "    return None\n",
        "  # Try to geocode the location and get the location object\n",
        "  try:\n",
        "    locat = geocoder.geocode(location)\n",
        "    # If the location is found, return the coordinates as a tuple\n",
        "    if locat:\n",
        "      return (locat.latitude, locat.longitude)\n",
        "    # If the location is not found, delete the first word from the location and recursively call the function\n",
        "    else:\n",
        "      location = location.replace(location[0], \"\", 1)\n",
        "      return get_coordinates_by_geopy(location)\n",
        "  # Handle any exceptions that may occur\n",
        "  except Exception as e:\n",
        "    print(\"Error: \", e)\n",
        "    return None\n"
      ],
      "metadata": {
        "id": "KcBqvP3NNifb"
      },
      "execution_count": null,
      "outputs": []
    },
    {
      "cell_type": "code",
      "execution_count": null,
      "metadata": {
        "id": "MFuEsr7qPY4n"
      },
      "outputs": [],
      "source": [
        "# Import the geopy module\n",
        "import geopy\n",
        "\n",
        "\n",
        "# Define a function that takes a location as a parameter and returns the coordinates as a tuple\n",
        "def get_coordinates_by_geopy(location):\n",
        "  # Create a geocoder object using the Nominatim service\n",
        "  geocoder = geopy.Nominatim(user_agent=\"my_app\")\n",
        "  # Try to geocode the location and get the location object\n",
        "  try:\n",
        "    locat = geocoder.geocode(location)\n",
        "    # If the location is found, return the coordinates as a tuple\n",
        "    if locat:\n",
        "      return (locat.latitude, locat.longitude)\n",
        "    # If the location is not found, split the location by spaces and get the last word\n",
        "\n",
        "    else:\n",
        "\n",
        "      last_word = location.split(\", \")[-1]\n",
        "      # Try to geocode the last word and get the location object\n",
        "      locat = geocoder.geocode(last_word)\n",
        "      # If the location is found, return the coordinates as a tuple\n",
        "      if locat:\n",
        "        return (locat.latitude, locat.longitude)\n",
        "      # If the location is not found, return None\n",
        "      else:\n",
        "        return None\n",
        "  # Handle any exceptions that may occur\n",
        "  except Exception as e:\n",
        "    print(\"Error: \", e)\n",
        "    return None\n",
        "\n",
        "\n",
        "\n",
        "\n",
        "\n"
      ]
    },
    {
      "cell_type": "code",
      "execution_count": null,
      "metadata": {
        "id": "wqzj4Drsndur"
      },
      "outputs": [],
      "source": [
        "df[\"coordinates\"] = df[\"Locat\"].apply(get_coordinates_by_geopy)"
      ]
    },
    {
      "cell_type": "code",
      "execution_count": null,
      "metadata": {
        "id": "NsueabNL8w-h"
      },
      "outputs": [],
      "source": [
        "df[\"coordinates\"].isna().sum()"
      ]
    },
    {
      "cell_type": "code",
      "source": [
        "df = df[~df[\"coordinates\"].isna()]"
      ],
      "metadata": {
        "id": "2yQ2aou8udb2"
      },
      "execution_count": null,
      "outputs": []
    },
    {
      "cell_type": "code",
      "source": [
        "df2= df[df['coordinates'].isnull()]"
      ],
      "metadata": {
        "id": "1E9e34HTrRVH"
      },
      "execution_count": null,
      "outputs": []
    },
    {
      "cell_type": "code",
      "source": [
        "df2"
      ],
      "metadata": {
        "id": "6tNC-ITLrVh1"
      },
      "execution_count": null,
      "outputs": []
    },
    {
      "cell_type": "code",
      "execution_count": null,
      "metadata": {
        "colab": {
          "base_uri": "https://localhost:8080/"
        },
        "id": "RLdwCypqaDdZ",
        "outputId": "439397bb-aecc-42bf-adfb-1616bd91d142"
      },
      "outputs": [
        {
          "output_type": "stream",
          "name": "stdout",
          "text": [
            "Downloading: maxtemp for year 2021\n",
            "Download Successful !!!\n"
          ]
        },
        {
          "output_type": "execute_result",
          "data": {
            "text/plain": [
              "<imdlib.core.IMD at 0x7f4216cf5e40>"
            ]
          },
          "metadata": {},
          "execution_count": 2
        }
      ],
      "source": [
        "import imdlib\n",
        "\n",
        "start_yr = 2021\n",
        "end_yr = 2021\n",
        "variable = 'tmax'\n",
        "\n",
        "file_dir = (r'/content/sample_data/data') #Path to save the files\n",
        "data = imdlib.get_data(variable, start_yr, end_yr,'yearwise', file_dir)\n",
        "data"
      ]
    },
    {
      "cell_type": "code",
      "source": [
        "import imdlib\n",
        "\n",
        "start_yr = 2021\n",
        "end_yr = 2021\n",
        "variable = 'rain'\n",
        "\n",
        "file_dir = (r'/content/sample_data/data2') #Path to save the files\n",
        "data2 = imdlib.get_data(variable, start_yr, end_yr,'yearwise', file_dir)\n",
        "data2"
      ],
      "metadata": {
        "colab": {
          "base_uri": "https://localhost:8080/"
        },
        "id": "F6XL-Lkqbs2R",
        "outputId": "7642f889-fa70-4807-cc44-4094600931d9"
      },
      "execution_count": null,
      "outputs": [
        {
          "output_type": "stream",
          "name": "stdout",
          "text": [
            "Downloading: rain for year 2021\n",
            "Download Successful !!!\n"
          ]
        },
        {
          "output_type": "execute_result",
          "data": {
            "text/plain": [
              "<imdlib.core.IMD at 0x7fda23059030>"
            ]
          },
          "metadata": {},
          "execution_count": 9
        }
      ]
    },
    {
      "cell_type": "code",
      "execution_count": null,
      "metadata": {
        "id": "pToNuO8Kjp0_"
      },
      "outputs": [],
      "source": [
        "def avg_daily(location, data):\n",
        "  lat0=location[0]\n",
        "  lat0=float(lat0)\n",
        "  lat = f' {lat0:.2f}'\n",
        "  lon0=location[1]\n",
        "  lon = f' {lon0:.2f}'\n",
        "  data.to_csv('test.csv',lat0,lon0)\n",
        "  rf= 'test_'+str(lat)+'_'+str(lon)+'.csv'\n",
        "  rf = rf.replace (' ', '')\n",
        "  df2= pd.read_csv(rf)\n",
        "  me =df2.iloc[:,-1].mean()\n",
        "\n",
        "  return me\n"
      ]
    },
    {
      "cell_type": "code",
      "execution_count": null,
      "metadata": {
        "id": "P4QdhZvr_fOl"
      },
      "outputs": [],
      "source": [
        "def ram(lat,lon,data):\n",
        "   lat0 = f' {lat:.2f}'\n",
        "   lon0 = f' {lon:.2f}'\n",
        "   lat=round(lat,2)\n",
        "   lon=round(lon,2)\n",
        "   data.to_csv('test.csv',lat,lon)\n",
        "   rf= 'test_'+str(lat0)+'_'+str(lon0)+'.csv'\n",
        "   rf = rf.replace (' ', '')\n",
        "   df2= pd.read_csv(rf)\n",
        "   me =df2.iloc[:,-1].mean()\n",
        "   return me\n"
      ]
    },
    {
      "cell_type": "code",
      "execution_count": null,
      "metadata": {
        "id": "udyvlozTAcEg"
      },
      "outputs": [],
      "source": [
        "\n",
        "for i in range(0,len(df)):\n",
        "  df[\"temp\"][i]= avg_daily(df[\"coordinates\"][i],data)\n",
        "  c=i"
      ]
    },
    {
      "cell_type": "code",
      "source": [
        "import pandas as pd\n",
        "df = pd.read_csv(\"/content/bihar_final.csv\")"
      ],
      "metadata": {
        "id": "JpmzF2s7ulh0"
      },
      "execution_count": null,
      "outputs": []
    },
    {
      "cell_type": "code",
      "source": [
        "df.dtypes"
      ],
      "metadata": {
        "colab": {
          "base_uri": "https://localhost:8080/"
        },
        "id": "JceL4quYpEM5",
        "outputId": "6e0b8c79-6da2-4b24-d861-b91dfa47941d"
      },
      "execution_count": null,
      "outputs": [
        {
          "output_type": "execute_result",
          "data": {
            "text/plain": [
              "Unnamed: 0       int64\n",
              "SN               int64\n",
              "District        object\n",
              "Block           object\n",
              "Location        object\n",
              "pH             float64\n",
              "EC               int64\n",
              "TDS            float64\n",
              "TH as cac03    float64\n",
              "Ca2+             int64\n",
              "Mg2+           float64\n",
              "Na+            float64\n",
              "K+             float64\n",
              "CO3-             int64\n",
              "HCO2-          float64\n",
              "Cl -           float64\n",
              "SO2-           float64\n",
              "NO3-           float64\n",
              "F-             float64\n",
              "PO3-           float64\n",
              "SiO2           float64\n",
              "lat            float64\n",
              "long           float64\n",
              "prep           float64\n",
              "dtype: object"
            ]
          },
          "metadata": {},
          "execution_count": 83
        }
      ]
    },
    {
      "cell_type": "code",
      "source": [
        "df[\"prep\"]=0"
      ],
      "metadata": {
        "id": "U_5-2x-HSqGq"
      },
      "execution_count": null,
      "outputs": []
    },
    {
      "cell_type": "code",
      "source": [
        "df[\"temp\"]=0"
      ],
      "metadata": {
        "id": "jIbYi4mMcPab"
      },
      "execution_count": null,
      "outputs": []
    },
    {
      "cell_type": "code",
      "source": [
        "for i in range(0,len(df)):\n",
        "  #df[\"prep\"][i]=ram(df[\"Lat\"][i],df[\"Long\"][i],data2)\n",
        "  df[\"temp\"][i]=ram(df[\"lat\"][i],df[\"long\"][i],data)\n",
        "  c=i\n",
        "print(c)"
      ],
      "metadata": {
        "id": "Bvjh_JQOjTIN",
        "colab": {
          "base_uri": "https://localhost:8080/"
        },
        "outputId": "131a3db0-e716-4d81-cccd-23cea626128d"
      },
      "execution_count": null,
      "outputs": [
        {
          "output_type": "stream",
          "name": "stderr",
          "text": [
            "<ipython-input-87-170e784b3a46>:3: SettingWithCopyWarning: \n",
            "A value is trying to be set on a copy of a slice from a DataFrame\n",
            "\n",
            "See the caveats in the documentation: https://pandas.pydata.org/pandas-docs/stable/user_guide/indexing.html#returning-a-view-versus-a-copy\n",
            "  df[\"temp\"][i]=ram(df[\"lat\"][i],df[\"long\"][i],data)\n"
          ]
        },
        {
          "output_type": "stream",
          "name": "stdout",
          "text": [
            "276\n"
          ]
        }
      ]
    },
    {
      "cell_type": "code",
      "source": [
        "c"
      ],
      "metadata": {
        "colab": {
          "base_uri": "https://localhost:8080/"
        },
        "id": "4iC1v3A4pSrb",
        "outputId": "e2829c3f-591e-4d49-925c-9ae50500901a"
      },
      "execution_count": null,
      "outputs": [
        {
          "output_type": "execute_result",
          "data": {
            "text/plain": [
              "537"
            ]
          },
          "metadata": {},
          "execution_count": 28
        }
      ]
    },
    {
      "cell_type": "code",
      "source": [
        "df['prep'].isnull().sum()"
      ],
      "metadata": {
        "id": "SW6tGPflJxsi",
        "colab": {
          "base_uri": "https://localhost:8080/"
        },
        "outputId": "a7b80434-4725-4a5d-ec61-5c5f99ff25d6"
      },
      "execution_count": null,
      "outputs": [
        {
          "output_type": "execute_result",
          "data": {
            "text/plain": [
              "0"
            ]
          },
          "metadata": {},
          "execution_count": 50
        }
      ]
    },
    {
      "cell_type": "code",
      "source": [
        "negative_prep_rows = df[df[\"prep\"] < 0].index\n",
        "\n",
        "# Drop the rows from the DataFrame\n",
        "df = df.drop(negative_prep_rows)"
      ],
      "metadata": {
        "id": "Al-m8q7gqIbS"
      },
      "execution_count": null,
      "outputs": []
    },
    {
      "cell_type": "code",
      "source": [
        "len(df)"
      ],
      "metadata": {
        "colab": {
          "base_uri": "https://localhost:8080/"
        },
        "id": "R9Anv46Rq6Lc",
        "outputId": "64561237-0610-447a-d00b-f2044353cb4d"
      },
      "execution_count": null,
      "outputs": [
        {
          "output_type": "execute_result",
          "data": {
            "text/plain": [
              "842"
            ]
          },
          "metadata": {},
          "execution_count": 76
        }
      ]
    },
    {
      "cell_type": "code",
      "source": [
        "negative_prep_rows = df[df[\"temp\"] < 0].index\n",
        "\n",
        "# Drop the rows from the DataFrame\n",
        "df = df.drop(negative_prep_rows)"
      ],
      "metadata": {
        "id": "J_6hjr23q7-J"
      },
      "execution_count": null,
      "outputs": []
    },
    {
      "cell_type": "code",
      "source": [
        "len(df)"
      ],
      "metadata": {
        "colab": {
          "base_uri": "https://localhost:8080/"
        },
        "id": "ioh7CAwWq-bS",
        "outputId": "5a7234c1-81b2-42b1-89cc-c46e1cd9f059"
      },
      "execution_count": null,
      "outputs": [
        {
          "output_type": "execute_result",
          "data": {
            "text/plain": [
              "277"
            ]
          },
          "metadata": {},
          "execution_count": 90
        }
      ]
    },
    {
      "cell_type": "code",
      "source": [
        "df2"
      ],
      "metadata": {
        "id": "AWGcHIKOLFBE",
        "colab": {
          "base_uri": "https://localhost:8080/",
          "height": 79
        },
        "outputId": "a9d1b570-f863-44bc-ec33-27902ef8c43e"
      },
      "execution_count": null,
      "outputs": [
        {
          "output_type": "execute_result",
          "data": {
            "text/plain": [
              "Empty DataFrame\n",
              "Columns: [S.N, District, Block, Location, pH*, EC*, CO, HC, Cl*, SO4, NO, F*, PO4, Ca*, Mg, Na, K, SiO, TH, Locat, coordinates, prep]\n",
              "Index: []\n",
              "\n",
              "[0 rows x 22 columns]"
            ],
            "text/html": [
              "\n",
              "  <div id=\"df-2178bbbf-a18e-4c8d-b808-d5dc67f63496\">\n",
              "    <div class=\"colab-df-container\">\n",
              "      <div>\n",
              "<style scoped>\n",
              "    .dataframe tbody tr th:only-of-type {\n",
              "        vertical-align: middle;\n",
              "    }\n",
              "\n",
              "    .dataframe tbody tr th {\n",
              "        vertical-align: top;\n",
              "    }\n",
              "\n",
              "    .dataframe thead th {\n",
              "        text-align: right;\n",
              "    }\n",
              "</style>\n",
              "<table border=\"1\" class=\"dataframe\">\n",
              "  <thead>\n",
              "    <tr style=\"text-align: right;\">\n",
              "      <th></th>\n",
              "      <th>S.N</th>\n",
              "      <th>District</th>\n",
              "      <th>Block</th>\n",
              "      <th>Location</th>\n",
              "      <th>pH*</th>\n",
              "      <th>EC*</th>\n",
              "      <th>CO</th>\n",
              "      <th>HC</th>\n",
              "      <th>Cl*</th>\n",
              "      <th>SO4</th>\n",
              "      <th>...</th>\n",
              "      <th>PO4</th>\n",
              "      <th>Ca*</th>\n",
              "      <th>Mg</th>\n",
              "      <th>Na</th>\n",
              "      <th>K</th>\n",
              "      <th>SiO</th>\n",
              "      <th>TH</th>\n",
              "      <th>Locat</th>\n",
              "      <th>coordinates</th>\n",
              "      <th>prep</th>\n",
              "    </tr>\n",
              "  </thead>\n",
              "  <tbody>\n",
              "  </tbody>\n",
              "</table>\n",
              "<p>0 rows × 22 columns</p>\n",
              "</div>\n",
              "      <button class=\"colab-df-convert\" onclick=\"convertToInteractive('df-2178bbbf-a18e-4c8d-b808-d5dc67f63496')\"\n",
              "              title=\"Convert this dataframe to an interactive table.\"\n",
              "              style=\"display:none;\">\n",
              "        \n",
              "  <svg xmlns=\"http://www.w3.org/2000/svg\" height=\"24px\"viewBox=\"0 0 24 24\"\n",
              "       width=\"24px\">\n",
              "    <path d=\"M0 0h24v24H0V0z\" fill=\"none\"/>\n",
              "    <path d=\"M18.56 5.44l.94 2.06.94-2.06 2.06-.94-2.06-.94-.94-2.06-.94 2.06-2.06.94zm-11 1L8.5 8.5l.94-2.06 2.06-.94-2.06-.94L8.5 2.5l-.94 2.06-2.06.94zm10 10l.94 2.06.94-2.06 2.06-.94-2.06-.94-.94-2.06-.94 2.06-2.06.94z\"/><path d=\"M17.41 7.96l-1.37-1.37c-.4-.4-.92-.59-1.43-.59-.52 0-1.04.2-1.43.59L10.3 9.45l-7.72 7.72c-.78.78-.78 2.05 0 2.83L4 21.41c.39.39.9.59 1.41.59.51 0 1.02-.2 1.41-.59l7.78-7.78 2.81-2.81c.8-.78.8-2.07 0-2.86zM5.41 20L4 18.59l7.72-7.72 1.47 1.35L5.41 20z\"/>\n",
              "  </svg>\n",
              "      </button>\n",
              "      \n",
              "  <style>\n",
              "    .colab-df-container {\n",
              "      display:flex;\n",
              "      flex-wrap:wrap;\n",
              "      gap: 12px;\n",
              "    }\n",
              "\n",
              "    .colab-df-convert {\n",
              "      background-color: #E8F0FE;\n",
              "      border: none;\n",
              "      border-radius: 50%;\n",
              "      cursor: pointer;\n",
              "      display: none;\n",
              "      fill: #1967D2;\n",
              "      height: 32px;\n",
              "      padding: 0 0 0 0;\n",
              "      width: 32px;\n",
              "    }\n",
              "\n",
              "    .colab-df-convert:hover {\n",
              "      background-color: #E2EBFA;\n",
              "      box-shadow: 0px 1px 2px rgba(60, 64, 67, 0.3), 0px 1px 3px 1px rgba(60, 64, 67, 0.15);\n",
              "      fill: #174EA6;\n",
              "    }\n",
              "\n",
              "    [theme=dark] .colab-df-convert {\n",
              "      background-color: #3B4455;\n",
              "      fill: #D2E3FC;\n",
              "    }\n",
              "\n",
              "    [theme=dark] .colab-df-convert:hover {\n",
              "      background-color: #434B5C;\n",
              "      box-shadow: 0px 1px 3px 1px rgba(0, 0, 0, 0.15);\n",
              "      filter: drop-shadow(0px 1px 2px rgba(0, 0, 0, 0.3));\n",
              "      fill: #FFFFFF;\n",
              "    }\n",
              "  </style>\n",
              "\n",
              "      <script>\n",
              "        const buttonEl =\n",
              "          document.querySelector('#df-2178bbbf-a18e-4c8d-b808-d5dc67f63496 button.colab-df-convert');\n",
              "        buttonEl.style.display =\n",
              "          google.colab.kernel.accessAllowed ? 'block' : 'none';\n",
              "\n",
              "        async function convertToInteractive(key) {\n",
              "          const element = document.querySelector('#df-2178bbbf-a18e-4c8d-b808-d5dc67f63496');\n",
              "          const dataTable =\n",
              "            await google.colab.kernel.invokeFunction('convertToInteractive',\n",
              "                                                     [key], {});\n",
              "          if (!dataTable) return;\n",
              "\n",
              "          const docLinkHtml = 'Like what you see? Visit the ' +\n",
              "            '<a target=\"_blank\" href=https://colab.research.google.com/notebooks/data_table.ipynb>data table notebook</a>'\n",
              "            + ' to learn more about interactive tables.';\n",
              "          element.innerHTML = '';\n",
              "          dataTable['output_type'] = 'display_data';\n",
              "          await google.colab.output.renderOutput(dataTable, element);\n",
              "          const docLink = document.createElement('div');\n",
              "          docLink.innerHTML = docLinkHtml;\n",
              "          element.appendChild(docLink);\n",
              "        }\n",
              "      </script>\n",
              "    </div>\n",
              "  </div>\n",
              "  "
            ]
          },
          "metadata": {},
          "execution_count": 69
        }
      ]
    },
    {
      "cell_type": "code",
      "execution_count": null,
      "metadata": {
        "colab": {
          "base_uri": "https://localhost:8080/",
          "height": 17
        },
        "id": "lhaeFGeiuK7H",
        "outputId": "b240cf4f-ef01-4203-cafe-f138d5a55cd4"
      },
      "outputs": [
        {
          "output_type": "display_data",
          "data": {
            "text/plain": [
              "<IPython.core.display.Javascript object>"
            ],
            "application/javascript": [
              "\n",
              "    async function download(id, filename, size) {\n",
              "      if (!google.colab.kernel.accessAllowed) {\n",
              "        return;\n",
              "      }\n",
              "      const div = document.createElement('div');\n",
              "      const label = document.createElement('label');\n",
              "      label.textContent = `Downloading \"${filename}\": `;\n",
              "      div.appendChild(label);\n",
              "      const progress = document.createElement('progress');\n",
              "      progress.max = size;\n",
              "      div.appendChild(progress);\n",
              "      document.body.appendChild(div);\n",
              "\n",
              "      const buffers = [];\n",
              "      let downloaded = 0;\n",
              "\n",
              "      const channel = await google.colab.kernel.comms.open(id);\n",
              "      // Send a message to notify the kernel that we're ready.\n",
              "      channel.send({})\n",
              "\n",
              "      for await (const message of channel.messages) {\n",
              "        // Send a message to notify the kernel that we're ready.\n",
              "        channel.send({})\n",
              "        if (message.buffers) {\n",
              "          for (const buffer of message.buffers) {\n",
              "            buffers.push(buffer);\n",
              "            downloaded += buffer.byteLength;\n",
              "            progress.value = downloaded;\n",
              "          }\n",
              "        }\n",
              "      }\n",
              "      const blob = new Blob(buffers, {type: 'application/binary'});\n",
              "      const a = document.createElement('a');\n",
              "      a.href = window.URL.createObjectURL(blob);\n",
              "      a.download = filename;\n",
              "      div.appendChild(a);\n",
              "      a.click();\n",
              "      div.remove();\n",
              "    }\n",
              "  "
            ]
          },
          "metadata": {}
        },
        {
          "output_type": "display_data",
          "data": {
            "text/plain": [
              "<IPython.core.display.Javascript object>"
            ],
            "application/javascript": [
              "download(\"download_fbe7f163-6a73-400e-b698-fd81180cb05a\", \"final_chasstigarh.csv\", 165040)"
            ]
          },
          "metadata": {}
        }
      ],
      "source": [
        "from google.colab import files\n",
        "\n",
        "# Save dataframe as csv file\n",
        "df.to_csv ('final_bihar.csv')\n",
        "\n",
        "# Download csv file\n",
        "files.download ('final_chasstigarh.csv')"
      ]
    },
    {
      "cell_type": "code",
      "source": [
        "df"
      ],
      "metadata": {
        "id": "TXUeM6kTc574"
      },
      "execution_count": null,
      "outputs": []
    },
    {
      "cell_type": "code",
      "execution_count": null,
      "metadata": {
        "id": "VAnpbOwzult4"
      },
      "outputs": [],
      "source": [
        "# Delete all csv files from the current directory\n",
        "!rm *.csv\n"
      ]
    },
    {
      "cell_type": "code",
      "execution_count": null,
      "metadata": {
        "colab": {
          "base_uri": "https://localhost:8080/",
          "height": 468
        },
        "id": "GP1rObhAjJg5",
        "outputId": "50278a95-71fe-4fd7-e323-7ba7deab6669"
      },
      "outputs": [
        {
          "data": {
            "text/plain": [
              "<matplotlib.collections.QuadMesh at 0x7f6ca1bc4e20>"
            ]
          },
          "execution_count": 82,
          "metadata": {},
          "output_type": "execute_result"
        },
        {
          "data": {
            "image/png": "[encoded data removed]",
            "text/plain": [
              "<Figure size 640x480 with 2 Axes>"
            ]
          },
          "metadata": {},
          "output_type": "display_data"
        }
      ],
      "source": [
        "ds = ds.where(ds['rain'] != -999.) #Remove NaN values\n",
        "ds['rain'].mean('time').plot()"
      ]
    }
  ],
  "metadata": {
    "colab": {
      "provenance": []
    },
    "kernelspec": {
      "display_name": "Python 3",
      "name": "python3"
    },
    "language_info": {
      "name": "python"
    }
  },
  "nbformat": 4,
  "nbformat_minor": 0
}