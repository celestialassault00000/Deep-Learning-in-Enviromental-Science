{
  "nbformat": 4,
  "nbformat_minor": 0,
  "metadata": {
    "colab": {
      "provenance": []
    },
    "kernelspec": {
      "name": "python3",
      "display_name": "Python 3"
    },
    "language_info": {
      "name": "python"
    }
  },
  "cells": [
    {
      "cell_type": "code",
      "source": [
        "!pip install tabula-py"
      ],
      "metadata": {
        "colab": {
          "base_uri": "https://localhost:8080/"
        },
        "id": "S6Na9iph8nuO",
        "outputId": "d08623e1-beb9-4b04-e157-304361f81dcf"
      },
      "execution_count": null,
      "outputs": [
        {
          "output_type": "stream",
          "name": "stdout",
          "text": [
            "Looking in indexes: https://pypi.org/simple, https://us-python.pkg.dev/colab-wheels/public/simple/\n",
            "Requirement already satisfied: tabula-py in /usr/local/lib/python3.10/dist-packages (2.7.0)\n",
            "Requirement already satisfied: pandas>=0.25.3 in /usr/local/lib/python3.10/dist-packages (from tabula-py) (1.5.3)\n",
            "Requirement already satisfied: numpy in /usr/local/lib/python3.10/dist-packages (from tabula-py) (1.22.4)\n",
            "Requirement already satisfied: distro in /usr/local/lib/python3.10/dist-packages (from tabula-py) (1.8.0)\n",
            "Requirement already satisfied: python-dateutil>=2.8.1 in /usr/local/lib/python3.10/dist-packages (from pandas>=0.25.3->tabula-py) (2.8.2)\n",
            "Requirement already satisfied: pytz>=2020.1 in /usr/local/lib/python3.10/dist-packages (from pandas>=0.25.3->tabula-py) (2022.7.1)\n",
            "Requirement already satisfied: six>=1.5 in /usr/local/lib/python3.10/dist-packages (from python-dateutil>=2.8.1->pandas>=0.25.3->tabula-py) (1.16.0)\n"
          ]
        }
      ]
    },
    {
      "cell_type": "code",
      "source": [
        "import tabula"
      ],
      "metadata": {
        "id": "vLadZZGo8qnr"
      },
      "execution_count": null,
      "outputs": []
    },
    {
      "cell_type": "code",
      "source": [
        "# Import tabula\n",
        "import tabula\n",
        "\n",
        "# Check the environment info\n",
        "tabula.environment_info()\n"
      ],
      "metadata": {
        "colab": {
          "base_uri": "https://localhost:8080/"
        },
        "id": "yY7-fayn-PvE",
        "outputId": "2346dfeb-50ef-4564-bbbe-66a4367ce54a"
      },
      "execution_count": null,
      "outputs": [
        {
          "output_type": "stream",
          "name": "stdout",
          "text": [
            "Python version:\n",
            "    3.10.12 (main, Jun  7 2023, 12:45:35) [GCC 9.4.0]\n",
            "Java version:\n",
            "    openjdk version \"11.0.19\" 2023-04-18\n",
            "OpenJDK Runtime Environment (build 11.0.19+7-post-Ubuntu-0ubuntu120.04.1)\n",
            "OpenJDK 64-Bit Server VM (build 11.0.19+7-post-Ubuntu-0ubuntu120.04.1, mixed mode, sharing)\n",
            "tabula-py version: 2.7.0\n",
            "platform: Linux-5.15.107+-x86_64-with-glibc2.31\n",
            "uname:\n",
            "    uname_result(system='Linux', node='de5b6cb9798c', release='5.15.107+', version='#1 SMP Sat Apr 29 09:15:28 UTC 2023', machine='x86_64')\n",
            "linux_distribution: ('Ubuntu', '20.04', 'focal')\n",
            "mac_ver: ('', ('', '', ''), '')\n"
          ]
        }
      ]
    },
    {
      "cell_type": "code",
      "source": [
        "tabula.convert_into(\"/content/haryana.pdf\", \"chemical_haryana.csv\", output_format=\"csv\", pages=\"135-151\")"
      ],
      "metadata": {
        "id": "Wti0hYYFjSf1"
      },
      "execution_count": null,
      "outputs": []
    },
    {
      "cell_type": "code",
      "source": [
        "tabula.convert_into(\"/content/jharkhand.pdf\", \"chemical_jharkhand.csv\", output_format=\"csv\", pages=\"69-74\")"
      ],
      "metadata": {
        "id": "_QEHmQ8yV-ke",
        "colab": {
          "base_uri": "https://localhost:8080/"
        },
        "outputId": "e9283e30-3518-4c43-85c2-78ca87ed3a60"
      },
      "execution_count": null,
      "outputs": [
        {
          "output_type": "stream",
          "name": "stderr",
          "text": [
            "WARNING:tabula.io:Got stderr: Jun 15, 2023 6:11:44 AM org.apache.pdfbox.pdmodel.font.FileSystemFontProvider loadDiskCache\n",
            "WARNING: New fonts found, font cache will be re-built\n",
            "Jun 15, 2023 6:11:44 AM org.apache.pdfbox.pdmodel.font.FileSystemFontProvider <init>\n",
            "WARNING: Building on-disk font cache, this may take a while\n",
            "Jun 15, 2023 6:11:44 AM org.apache.pdfbox.pdmodel.font.FileSystemFontProvider <init>\n",
            "WARNING: Finished building on-disk font cache, found 17 fonts\n",
            "\n"
          ]
        }
      ]
    },
    {
      "cell_type": "code",
      "source": [
        "tabula.convert_into(\"/content/punjab.pdf\", \"chemical_punjab.csv\", output_format=\"csv\", pages=\"133-144\")"
      ],
      "metadata": {
        "colab": {
          "base_uri": "https://localhost:8080/"
        },
        "id": "X5yjg8BYrTbI",
        "outputId": "dbb3cdf5-2b78-40e1-f4de-c338d33d16c4"
      },
      "execution_count": null,
      "outputs": [
        {
          "output_type": "stream",
          "name": "stderr",
          "text": [
            "WARNING:tabula.io:Got stderr: Jun 15, 2023 6:12:44 AM org.apache.pdfbox.pdmodel.font.PDTrueTypeFont <init>\n",
            "WARNING: Using fallback font 'LiberationSans' for 'TimesNewRomanPSMT'\n",
            "\n"
          ]
        }
      ]
    },
    {
      "cell_type": "code",
      "source": [
        "tabula.convert_into(\"/content/tamil_nadu.pdf\", \"chemical_tamil_nadu.csv\", output_format=\"csv\", pages=\"152-173\")"
      ],
      "metadata": {
        "id": "tzjZKICwrUDD"
      },
      "execution_count": null,
      "outputs": []
    }
  ]
}